{
 "cells": [
  {
   "cell_type": "code",
   "execution_count": 4,
   "metadata": {},
   "outputs": [
    {
     "name": "stderr",
     "output_type": "stream",
     "text": [
      "YOLOv5  2022-11-22 Python-3.8.20 torch-1.8.2+cu111 CUDA:0 (NVIDIA GeForce RTX 4060 Laptop GPU, 8188MiB)\n",
      "\n",
      "Fusing layers... \n",
      "YOLOv5s summary: 213 layers, 7225885 parameters, 0 gradients, 16.4 GFLOPs\n",
      "Adding AutoShape... \n"
     ]
    },
    {
     "name": "stdout",
     "output_type": "stream",
     "text": [
      "Showing images is not supported in this environment: OpenCV(4.11.0) :-1: error: (-5:Bad argument) in function 'rectangle'\n",
      "> Overload resolution failed:\n",
      ">  - img marked as output argument, but provided NumPy array marked as readonly\n",
      ">  - argument for rectangle() given by name ('thickness') and position (4)\n",
      ">  - Expected Ptr<cv::UMat> for argument 'img'\n",
      ">  - argument for rectangle() given by name ('thickness') and position (4)\n",
      "\n"
     ]
    }
   ],
   "source": [
    "import torch\n",
    "\n",
    "#model\n",
    "model=torch.hub.load(\"./\",\"yolov5s\",source=\"local\")\n",
    "\n",
    "#img\n",
    "img=(\"./data/images/zidane.jpg\")\n",
    "\n",
    "#inference\n",
    "results=model(img)\n",
    "\n",
    "#results\n",
    "results.show()"
   ]
  },
  {
   "cell_type": "code",
   "execution_count": null,
   "metadata": {},
   "outputs": [],
   "source": []
  }
 ],
 "metadata": {
  "kernelspec": {
   "display_name": "Python 3",
   "language": "python",
   "name": "python3"
  },
  "language_info": {
   "codemirror_mode": {
    "name": "ipython",
    "version": 3
   },
   "file_extension": ".py",
   "mimetype": "text/x-python",
   "name": "python",
   "nbconvert_exporter": "python",
   "pygments_lexer": "ipython3",
   "version": "3.8.20"
  }
 },
 "nbformat": 4,
 "nbformat_minor": 2
}
